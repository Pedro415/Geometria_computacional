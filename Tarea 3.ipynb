{
  "cells": [
    {
      "cell_type": "markdown",
      "id": "72d19bd1",
      "metadata": {
        "id": "72d19bd1"
      },
      "source": [
        "Punto 2 "
      ]
    },
    {
      "cell_type": "markdown",
      "id": "fab50913",
      "metadata": {
        "id": "fab50913"
      },
      "source": [
        "Evaluate the first fundamental form for the ellipsoid.\n",
        "\n",
        "Evaluate the metric tensor for the ellipsoid."
      ]
    },
    {
      "cell_type": "code",
      "execution_count": null,
      "id": "0b837215",
      "metadata": {
        "id": "0b837215",
        "outputId": "79040bb1-d6f7-443f-8ef8-2f6e475bf432"
      },
      "outputs": [
        {
          "name": "stdout",
          "output_type": "stream",
          "text": [
            "Tensor metrico \n",
            "Matrix([[a**2*cos(phi)**2*cos(theta)**2 + b**2*sin(phi)**2*cos(theta)**2 + c**2*sin(theta)**2, -a**2*sin(phi)*sin(theta)*cos(phi)*cos(theta) + b**2*sin(phi)*sin(theta)*cos(phi)*cos(theta)], [-a**2*sin(phi)*sin(theta)*cos(phi)*cos(theta) + b**2*sin(phi)*sin(theta)*cos(phi)*cos(theta), a**2*sin(phi)**2*sin(theta)**2 + b**2*sin(theta)**2*cos(phi)**2]])\n"
          ]
        }
      ],
      "source": [
        "import sympy as sp\n",
        "\n",
        "a,b,c,theta,phi = sp.symbols('a b c theta phi') #Se definen las variables \n",
        "\n",
        "x = a*sp.sin(theta)*sp.cos(phi) #Se define la ecuacion parametrica de la elipsoide \n",
        "y = b*sp.sin(theta)*sp.sin(phi)\n",
        "z = c*sp.cos(theta)\n",
        "# Se calculan las derivadas parciales para calcular la primera forma fundamental \n",
        "x_theta = sp.diff(x, theta)\n",
        "x_phi = sp.diff(x, phi)\n",
        "y_theta = sp.diff(y, theta)\n",
        "y_phi = sp.diff(y, phi)\n",
        "z_theta = sp.diff(z, theta)\n",
        "z_phi = sp.diff(z, phi)\n",
        "\n",
        "#Se calculan los coeficientes de la primera forma fundamental \n",
        "E = x_theta**2 + y_theta**2 + z_theta**2\n",
        "F = x_theta*x_phi + y_theta*y_phi + z_theta*z_phi\n",
        "G = x_phi**2 + y_phi**2 + z_phi**2\n",
        "\n",
        "# Se muestran los elementos de la primera forma fundamental utilizando el tensor metrico \n",
        "I = sp.Matrix([[E, F], [F, G]])\n",
        "print(\"Tensor metrico \")\n",
        "print(I)\n"
      ]
    },
    {
      "cell_type": "markdown",
      "id": "40c62387",
      "metadata": {
        "id": "40c62387"
      },
      "source": [
        "Which is the area element |X⃗u × X⃗v| for the ellipsoid?\n",
        " Evaluate the total area for the ellipsoid"
      ]
    },
    {
      "cell_type": "code",
      "execution_count": null,
      "id": "d208523f",
      "metadata": {
        "id": "d208523f",
        "outputId": "ca6cbe32-9eaa-42fa-9c75-3b2bc4d9d030"
      },
      "outputs": [
        {
          "name": "stdout",
          "output_type": "stream",
          "text": [
            "Elemento de area :|Xu × Xv| =  sqrt(Abs(a*b*sin(2*u))**2 + 4*Abs(a*c*sin(u)**2*sin(v))**2 + 4*Abs(b*c*sin(u)**2*cos(v))**2)/2\n",
            "Area total = Integral(sqrt(4*sin(u)**4*Abs(a*c*sin(v))**2 + 4*sin(u)**4*Abs(b*c*cos(v))**2 + Abs(a*b*sin(2*u))**2), (u, 0, 2*pi), (v, 0, pi))/2\n"
          ]
        }
      ],
      "source": [
        "import sympy as sp\n",
        "\n",
        "# Define the symbolic variables\n",
        "a, b, c, u, v = sp.symbols('a b c u v')\n",
        "\n",
        "x = a*sp.sin(u)*sp.cos(v) #Se define la ecuacion parametrica de la elipsoide \n",
        "y = b*sp.sin(u)*sp.sin(v)\n",
        "z = c*sp.cos(u)\n",
        "\n",
        "x_u = sp.diff(x, u)\n",
        "x_v = sp.diff(x, v)\n",
        "y_u = sp.diff(y, u) #Se calculan las derivadas parciales para crear los vectores Xu y Xv \n",
        "y_v = sp.diff(y, v)\n",
        "z_u = sp.diff(z, u)\n",
        "z_v = sp.diff(z, v)\n",
        "\n",
        "Xu=X = sp.Matrix([x_u,y_u,z_u]) #Se crean los vectores Xu y Xv\n",
        "Xv=X = sp.Matrix([x_v,y_v,z_v])\n",
        "\n",
        "cruz = Xu.cross(Xv) #Se calcula el producto cruz \n",
        "elemento_area = cruz.norm() #Se calcula la norma \n",
        "elemento_area = elemento_area.simplify() #Se simplifica la expresion \n",
        "print(\"Elemento de area :|Xu × Xv| = \", elemento_area) #Se imprime el resultado \n",
        "\n",
        "# Se calcula el area total con la doble integral del elemento de area \n",
        "area_tot = sp.integrate(elemento_area, (u, 0,2*sp.pi), (v, 0, sp.pi))\n",
        "print(\"Area total =\", area_tot) #Se imprime el area total "
      ]
    },
    {
      "cell_type": "markdown",
      "id": "0a91dd15",
      "metadata": {
        "id": "0a91dd15"
      },
      "source": [
        " Evaluate the second fundamental form for the ellipsoid."
      ]
    },
    {
      "cell_type": "code",
      "execution_count": null,
      "id": "f6661fec",
      "metadata": {
        "id": "f6661fec",
        "outputId": "32062136-3348-460d-b556-6eb85b1c5c38"
      },
      "outputs": [
        {
          "name": "stdout",
          "output_type": "stream",
          "text": [
            "Componente L :  -a**2*c*sin(u)**2*sin(v)**2*cos(u) - a*b*c*sin(u)**3*cos(v)**2 - a*(a*b*sin(u)*sin(v)**2*cos(u) + a*b*sin(u)*cos(u)*cos(v)**2)*sin(u)*cos(v) \n",
            "Componente M :  a*b*c*sin(u)**2*sin(v)*cos(u)*cos(v) - b**2*c*sin(u)**3*sin(v)*cos(v) - b*(a*b*sin(u)*sin(v)**2*cos(u) + a*b*sin(u)*cos(u)*cos(v)**2)*sin(u)*sin(v) \n",
            "Componente N :  -b*c**2*sin(u)**2*cos(u)*cos(v)\n"
          ]
        }
      ],
      "source": [
        "import sympy as sp\n",
        "\n",
        "# Define the symbols\n",
        "u, v = sp.symbols('u v')\n",
        "a, b, c = sp.symbols('a b c', positive=True)\n",
        "\n",
        "\n",
        "x = a * sp.sin(u) * sp.cos(v) #Se define la ecuacion parametrica \n",
        "y = b * sp.sin(u) * sp.sin(v)\n",
        "z = c * sp.cos(u)\n",
        "\n",
        "x_u = sp.diff(x, u)\n",
        "x_v = sp.diff(x, v)\n",
        "y_u = sp.diff(y, u) #Se calculan las derivadas parciales \n",
        "y_v = sp.diff(y, v)\n",
        "z_u = sp.diff(z, u)\n",
        "z_v = sp.diff(z, v)\n",
        "\n",
        "x_uu = sp.diff(x_u, u)\n",
        "x_uv = sp.diff(x_u, v)\n",
        "x_vv = sp.diff(x_v, v)\n",
        "y_uu = sp.diff(y_u, u)\n",
        "y_uv = sp.diff(y_u, v) #Se calculan las segundas derivadas parciales \n",
        "y_vv = sp.diff(y_v, v)\n",
        "z_uu = sp.diff(z_u, u)\n",
        "z_uv = sp.diff(z_u, v)\n",
        "z_vv = sp.diff(z_v, v)\n",
        "\n",
        "n_x = y_u*z_v-y_v*z_u\n",
        "n_y = z_u*x_v-z_v*x_u #Se crean los componentes del vector unitario normal \n",
        "n_z = x_u*y_v-x_v*y_u\n",
        "\n",
        "L = x_uu * n_x + x_uv * n_y + x_vv * n_z #Se aplica la formula de la segunda forma normal  \n",
        "M = y_uu * n_x + y_uv * n_y + y_vv * n_z\n",
        "N = z_uu * n_x + z_uv * n_y + z_vv * n_z\n",
        "\n",
        "print(\"Componente L : \",L, \"\\nComponente M : \",M, \"\\nComponente N : \",N)\n"
      ]
    },
    {
      "cell_type": "markdown",
      "source": [
        "Vector normal n(p)"
      ],
      "metadata": {
        "id": "--CiKYB7ORbH"
      },
      "id": "--CiKYB7ORbH"
    },
    {
      "cell_type": "code",
      "source": [
        "import sympy as sp\n",
        "\n",
        "# Define the symbolic variables\n",
        "a, b, c, u, v = sp.symbols('a b c u v')\n",
        "\n",
        "x = sp.sin(u)*sp.cos(v) #Se define la ecuacion parametrica de la elipsoide \n",
        "y = sp.sin(u)*sp.sin(v)\n",
        "z = sp.cos(u)\n",
        "\n",
        "x_u = sp.diff(x, u)\n",
        "x_v = sp.diff(x, v)\n",
        "y_u = sp.diff(y, u) #Se calculan las derivadas parciales para crear los vectores Xu y Xv \n",
        "y_v = sp.diff(y, v)\n",
        "z_u = sp.diff(z, u)\n",
        "z_v = sp.diff(z, v)\n",
        "\n",
        "Xu=X = sp.Matrix([x_u,y_u,z_u]) #Se crean los vectores Xu y Xv\n",
        "Xv=X = sp.Matrix([x_v,y_v,z_v])\n",
        "\n",
        "cruz = Xu.cross(Xv) #Se calcula el producto cruz \n",
        "elemento_area = cruz.norm() #Se calcula la norma \n",
        "elemento_area = elemento_area.simplify() #Se simplifica la expresion \n",
        "\n",
        "\n",
        "norma= cruz/elemento_area #Se calcula el vector N\n",
        "print(norma) \n",
        "\n",
        "uy = norma.evalf(subs={u: sp.pi/4, v: sp.pi/2  })\n",
        "print(uy) #Se evalua el vector N con los parametros dados "
      ],
      "metadata": {
        "colab": {
          "base_uri": "https://localhost:8080/"
        },
        "id": "sf4kGxReO7kW",
        "outputId": "22d381ce-8cae-488c-c044-3c87ef2fa6d1"
      },
      "id": "sf4kGxReO7kW",
      "execution_count": 2,
      "outputs": [
        {
          "output_type": "stream",
          "name": "stdout",
          "text": [
            "Matrix([[2*sin(u)**2*cos(v)/sqrt(4*Abs(sin(u)**2*sin(v))**2 + 4*Abs(sin(u)**2*cos(v))**2 + Abs(sin(2*u))**2)], [2*sin(u)**2*sin(v)/sqrt(4*Abs(sin(u)**2*sin(v))**2 + 4*Abs(sin(u)**2*cos(v))**2 + Abs(sin(2*u))**2)], [2*(sin(u)*sin(v)**2*cos(u) + sin(u)*cos(u)*cos(v)**2)/sqrt(4*Abs(sin(u)**2*sin(v))**2 + 4*Abs(sin(u)**2*cos(v))**2 + Abs(sin(2*u))**2)]])\n",
            "Matrix([[-0.e-646], [0.707106781186548], [0.707106781186548]])\n"
          ]
        }
      ]
    },
    {
      "cell_type": "markdown",
      "id": "d5bf5c2a",
      "metadata": {
        "id": "d5bf5c2a"
      },
      "source": [
        "Punto 3 "
      ]
    },
    {
      "cell_type": "markdown",
      "id": "40f62b75",
      "metadata": {
        "id": "40f62b75"
      },
      "source": [
        " Evaluate the first fundamental form for the Mobius strip .\n",
        " Evaluate the metric tensor for the M¨obius strip."
      ]
    },
    {
      "cell_type": "code",
      "execution_count": null,
      "id": "85c6d105",
      "metadata": {
        "id": "85c6d105",
        "outputId": "b7d8a684-a132-477e-9823-7da5ef3009e5"
      },
      "outputs": [
        {
          "name": "stdout",
          "output_type": "stream",
          "text": [
            "Tensor metrico \n",
            "Matrix([[0.0625*t**2*cos(theta/2)**2 + (-0.25*t*sin(theta/2)*sin(theta) + (0.5*t*cos(theta/2) + 1)*cos(theta))**2 + (-0.25*t*sin(theta/2)*cos(theta) - (0.5*t*cos(theta/2) + 1)*sin(theta))**2, 0.125*t*sin(theta/2)*cos(theta/2) + 0.5*(-0.25*t*sin(theta/2)*sin(theta) + (0.5*t*cos(theta/2) + 1)*cos(theta))*sin(theta)*cos(theta/2) + 0.5*(-0.25*t*sin(theta/2)*cos(theta) - (0.5*t*cos(theta/2) + 1)*sin(theta))*cos(theta/2)*cos(theta)], [0.125*t*sin(theta/2)*cos(theta/2) + 0.5*(-0.25*t*sin(theta/2)*sin(theta) + (0.5*t*cos(theta/2) + 1)*cos(theta))*sin(theta)*cos(theta/2) + 0.5*(-0.25*t*sin(theta/2)*cos(theta) - (0.5*t*cos(theta/2) + 1)*sin(theta))*cos(theta/2)*cos(theta), 0.25*sin(theta/2)**2 + 0.25*sin(theta)**2*cos(theta/2)**2 + 0.25*cos(theta/2)**2*cos(theta)**2]])\n"
          ]
        }
      ],
      "source": [
        "import sympy as sp\n",
        "\n",
        "a, b, c, theta, t = sp.symbols('a b c theta t') #Se definen las variables \n",
        "\n",
        "x = (1 + (1/2)*t*sp.cos(theta/2))*sp.cos(theta) #Se define la ecuacion parametrica de la elipsoide \n",
        "y = (1 + (1/2)*t*sp.cos(theta/2))*sp.sin(theta)\n",
        "z = (1/2)*t*sp.sin(theta/2)\n",
        "# Se calculan las derivadas parciales para la primera forma fundamental \n",
        "x_theta = sp.diff(x, theta)\n",
        "x_t = sp.diff(x, t)\n",
        "y_theta = sp.diff(y, theta)\n",
        "y_t = sp.diff(y, t)\n",
        "z_theta = sp.diff(z, theta)\n",
        "z_t = sp.diff(z, t)\n",
        "\n",
        "#Se calculan los coeficientes de la primera forma fundamental \n",
        "E = x_theta**2 + y_theta**2 + z_theta**2\n",
        "F = x_theta*x_t + y_theta*y_t + z_theta*z_t\n",
        "G = x_t**2 + y_t**2 + z_t**2\n",
        "\n",
        "# Se muestran los elementos de la primera forma fundamental utilizando el tensor metrico \n",
        "I = sp.Matrix([[E, F], [F, G]])\n",
        "print(\"Tensor metrico \")\n",
        "print(I)\n"
      ]
    },
    {
      "cell_type": "markdown",
      "id": "11d42561",
      "metadata": {
        "id": "11d42561"
      },
      "source": [
        " Which is the area element |X⃗u × X⃗v| for the M¨obius strip ?\n",
        " Evaluate the total area \n",
        "\n"
      ]
    },
    {
      "cell_type": "code",
      "execution_count": null,
      "id": "706f8918",
      "metadata": {
        "id": "706f8918",
        "outputId": "a5dfa36b-082c-4aec-ccf9-da827e4264ce"
      },
      "outputs": [
        {
          "name": "stdout",
          "output_type": "stream",
          "text": [
            "Elemento de area :|Xu × Xv| =  sqrt(Abs(0.125*t*cos(theta) + 0.125*t + 0.5*cos(theta/2))**2 + Abs(0.125*t*sin(theta) - 0.0625*t*sin(2*theta) + 0.25*sin(theta/2) - 0.25*sin(3*theta/2))**2 + Abs(0.125*t*cos(theta) - 0.0625*t*cos(2*theta) + 0.0625*t + 0.25*cos(theta/2) - 0.25*cos(3*theta/2))**2)\n"
          ]
        }
      ],
      "source": [
        "import sympy as sp\n",
        "\n",
        "# Define the symbolic variables\n",
        "a, b, c, theta, t = sp.symbols('a b c theta t') \n",
        "\n",
        "\n",
        "\n",
        "x = (1 + (1/2)*t*sp.cos(theta/2))*sp.cos(theta) #Se define la ecuacion parametrica de la elipsoide \n",
        "y = (1 + (1/2)*t*sp.cos(theta/2))*sp.sin(theta)\n",
        "z = (1/2)*t*sp.sin(theta/2)\n",
        "\n",
        "x_u = sp.diff(x, theta)\n",
        "x_v = sp.diff(x, t)\n",
        "y_u = sp.diff(y, theta) #Se calculan las derivadas parciales para crear los vectores Xu y Xv \n",
        "y_v = sp.diff(y, t)\n",
        "z_u = sp.diff(z, theta)\n",
        "z_v = sp.diff(z, t)\n",
        "\n",
        "Xu=X = sp.Matrix([x_u,y_u,z_u]) #Se crean los vectores Xu y Xv\n",
        "Xv=X = sp.Matrix([x_v,y_v,z_v])\n",
        "\n",
        "cruz = Xu.cross(Xv) #Se calcula el producto cruz \n",
        "elemento_area = cruz.norm() #Se calcula la norma \n",
        "elemento_area = elemento_area.simplify() #Se simplifica la expresion \n",
        "print(\"Elemento de area :|Xu × Xv| = \", elemento_area) #Se imprime el resultado "
      ]
    },
    {
      "cell_type": "markdown",
      "id": "00311c48",
      "metadata": {
        "id": "00311c48"
      },
      "source": [
        "Desafortunadamente no se puede evaluar el area total en este caso ya que el programa se queda en un bucle infinito"
      ]
    },
    {
      "cell_type": "code",
      "execution_count": null,
      "id": "22943a78",
      "metadata": {
        "id": "22943a78"
      },
      "outputs": [],
      "source": [
        "import sympy as sp\n",
        "\n",
        "# Define the symbolic variables\n",
        "a, b, c, theta, t = sp.symbols('a b c theta t') \n",
        "\n",
        "\n",
        "\n",
        "x = (1 + (1/2)*t*sp.cos(theta/2))*sp.cos(theta) #Se define la ecuacion parametrica de la elipsoide \n",
        "y = (1 + (1/2)*t*sp.cos(theta/2))*sp.sin(theta)\n",
        "z = (1/2)*t*sp.sin(theta/2)\n",
        "\n",
        "x_u = sp.diff(x, theta)\n",
        "x_v = sp.diff(x, t)\n",
        "y_u = sp.diff(y, theta) #Se calculan las derivadas parciales para crear los vectores Xu y Xv \n",
        "y_v = sp.diff(y, t)\n",
        "z_u = sp.diff(z, theta)\n",
        "z_v = sp.diff(z, t)\n",
        "\n",
        "Xu=X = sp.Matrix([x_u,y_u,z_u]) #Se crean los vectores Xu y Xv\n",
        "Xv=X = sp.Matrix([x_v,y_v,z_v])\n",
        "\n",
        "cruz = Xu.cross(Xv) #Se calcula el producto cruz \n",
        "elemento_area = cruz.norm() #Se calcula la norma \n",
        "elemento_area = elemento_area.simplify() #Se simplifica la expresion \n",
        "# Se calcula el area total con la doble integral del elemento de area \n",
        "area_tot = sp.integrate(elemento_area, (theta, 0,2*sp.pi), (t, -0.25, 0.25))\n",
        "print(\"Area total =\", area_tot) #Se imprime el area total "
      ]
    },
    {
      "cell_type": "markdown",
      "source": [
        "Se obtiene el vector normal y se evalua utilizando los limites dados"
      ],
      "metadata": {
        "id": "3SiWA4mZMNtw"
      },
      "id": "3SiWA4mZMNtw"
    },
    {
      "cell_type": "code",
      "source": [
        "import sympy as sp\n",
        "\n",
        "# Define the symbolic variables\n",
        "a, b, c, theta, t = sp.symbols('a b c theta t') \n",
        "\n",
        "\n",
        "\n",
        "x = (1 + (1/2)*t*sp.cos(theta/2))*sp.cos(theta) #Se define la ecuacion parametrica de la elipsoide \n",
        "y = (1 + (1/2)*t*sp.cos(theta/2))*sp.sin(theta)\n",
        "z = (1/2)*t*sp.sin(theta/2)\n",
        "\n",
        "x_u = sp.diff(x, theta)\n",
        "x_v = sp.diff(x, t)\n",
        "y_u = sp.diff(y, theta) #Se calculan las derivadas parciales para crear los vectores Xu y Xv \n",
        "y_v = sp.diff(y, t)\n",
        "z_u = sp.diff(z, theta)\n",
        "z_v = sp.diff(z, t)\n",
        "\n",
        "Xu=X = sp.Matrix([x_u,y_u,z_u]) #Se crean los vectores Xu y Xv\n",
        "Xv=X = sp.Matrix([x_v,y_v,z_v])\n",
        "\n",
        "cruz = Xu.cross(Xv) #Se calcula el producto cruz \n",
        "elemento_area = cruz.norm() #Se calcula la norma \n",
        "elemento_area = elemento_area.simplify() #Se simplifica la expresion \n",
        "\n",
        "\n",
        "norma= cruz/elemento_area #Se calcula el vector N\n",
        "print(norma) \n",
        "\n",
        "uy = norma.evalf(subs={theta: 0, t: 0  })\n",
        "print(uy) #Se evalua el vector N con los parametros dados "
      ],
      "metadata": {
        "colab": {
          "base_uri": "https://localhost:8080/"
        },
        "id": "IrK5oSZSN-cg",
        "outputId": "7d94f988-e125-4f5f-b261-c9466981c10b"
      },
      "id": "IrK5oSZSN-cg",
      "execution_count": 1,
      "outputs": [
        {
          "output_type": "stream",
          "name": "stdout",
          "text": [
            "Matrix([[(-0.125*t*sin(theta)*cos(theta/2)**2 + 0.5*(-0.25*t*sin(theta/2)*sin(theta) + (0.5*t*cos(theta/2) + 1)*cos(theta))*sin(theta/2))/sqrt(Abs(0.125*t*cos(theta) + 0.125*t + 0.5*cos(theta/2))**2 + Abs(0.125*t*sin(theta) - 0.0625*t*sin(2*theta) + 0.25*sin(theta/2) - 0.25*sin(3*theta/2))**2 + Abs(0.125*t*cos(theta) - 0.0625*t*cos(2*theta) + 0.0625*t + 0.25*cos(theta/2) - 0.25*cos(3*theta/2))**2)], [(0.125*t*cos(theta/2)**2*cos(theta) - 0.5*(-0.25*t*sin(theta/2)*cos(theta) - (0.5*t*cos(theta/2) + 1)*sin(theta))*sin(theta/2))/sqrt(Abs(0.125*t*cos(theta) + 0.125*t + 0.5*cos(theta/2))**2 + Abs(0.125*t*sin(theta) - 0.0625*t*sin(2*theta) + 0.25*sin(theta/2) - 0.25*sin(3*theta/2))**2 + Abs(0.125*t*cos(theta) - 0.0625*t*cos(2*theta) + 0.0625*t + 0.25*cos(theta/2) - 0.25*cos(3*theta/2))**2)], [(-0.5*(-0.25*t*sin(theta/2)*sin(theta) + (0.5*t*cos(theta/2) + 1)*cos(theta))*cos(theta/2)*cos(theta) + 0.5*(-0.25*t*sin(theta/2)*cos(theta) - (0.5*t*cos(theta/2) + 1)*sin(theta))*sin(theta)*cos(theta/2))/sqrt(Abs(0.125*t*cos(theta) + 0.125*t + 0.5*cos(theta/2))**2 + Abs(0.125*t*sin(theta) - 0.0625*t*sin(2*theta) + 0.25*sin(theta/2) - 0.25*sin(3*theta/2))**2 + Abs(0.125*t*cos(theta) - 0.0625*t*cos(2*theta) + 0.0625*t + 0.25*cos(theta/2) - 0.25*cos(3*theta/2))**2)]])\n",
            "Matrix([[0], [0], [-1.00000000000000]])\n"
          ]
        }
      ]
    }
  ],
  "metadata": {
    "kernelspec": {
      "display_name": "Python 3 (ipykernel)",
      "language": "python",
      "name": "python3"
    },
    "language_info": {
      "codemirror_mode": {
        "name": "ipython",
        "version": 3
      },
      "file_extension": ".py",
      "mimetype": "text/x-python",
      "name": "python",
      "nbconvert_exporter": "python",
      "pygments_lexer": "ipython3",
      "version": "3.10.9"
    },
    "colab": {
      "provenance": []
    }
  },
  "nbformat": 4,
  "nbformat_minor": 5
}