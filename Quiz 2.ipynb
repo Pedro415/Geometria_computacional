{
  "nbformat": 4,
  "nbformat_minor": 0,
  "metadata": {
    "colab": {
      "provenance": []
    },
    "kernelspec": {
      "name": "python3",
      "display_name": "Python 3"
    },
    "language_info": {
      "name": "python"
    }
  },
  "cells": [
    {
      "cell_type": "code",
      "execution_count": 51,
      "metadata": {
        "colab": {
          "base_uri": "https://localhost:8080/",
          "height": 282
        },
        "id": "9if0DSGLDXsN",
        "outputId": "5c5d67cd-4f13-4a72-93da-95f8654710e2"
      },
      "outputs": [
        {
          "output_type": "stream",
          "name": "stdout",
          "text": [
            "[(6, 3), (11, 4), (9, 0.5)]\n"
          ]
        },
        {
          "output_type": "display_data",
          "data": {
            "text/plain": [
              "<Figure size 432x288 with 1 Axes>"
            ],
            "image/png": "[encoded data removed]"
          },
          "metadata": {
            "needs_background": "light"
          }
        }
      ],
      "source": [
        "import math \n",
        "import matplotlib.pyplot as plt\n",
        "\n",
        "def angulo(a,b,c): #B es el vertice a evaluar y a y c son adyacentes \n",
        "    v1x= b[0]-a[0]\n",
        "    v1y= b[1]-a[1]\n",
        "    v2x= c[0]-b[0] #se generan los vectores para usar atan2\n",
        "    v2y= c[1]-b[1]\n",
        "    rg = (v1x*v2y-v1y*v2x)\n",
        "    rd=  (v1x*v2x+v1y*v2y)\n",
        "    ang = math.atan2(rg,rd)\n",
        "    angulo = math.degrees(ang)\n",
        "    return angulo \n",
        "\n",
        "def order(a,b): #Se define la relacion de orden para determinar arriba o abajo\n",
        "    if a[1]>b[1]:\n",
        "        return 0    #a esta arriba de b\n",
        "    elif a[1]<b[1]:\n",
        "        return 1    #b esta arriba de a \n",
        "    elif a[0]<b[0]:\n",
        "        return 0\n",
        "    elif a[0]>b[0]:\n",
        "        return 1\n",
        "    else:\n",
        "        return 2 #Ninuna de las anteriores \n",
        "\n",
        "def tipo_ver(a,b,c):\n",
        "    ang=angulo(a,b,c)\n",
        "    ab=order(a,b)\n",
        "    cb=order(c,b) \n",
        "    if ab==1 and cb==1:\n",
        "        if 0<ang<180: #Se invierten las condiciones por como se calcula el angulo \n",
        "            \n",
        "            return 1\n",
        "    return 0 \n",
        "p = ((9, 0.5), (7, -3), (6, 3), (2, -3), (3, 4), (4, 2.5), (5, 12), (7, 8.5), (8, 12), (9.5, 11), (11, 15), (13, 13), (12, 10), (13, 3), (11, 4), (10, -1), (9, 0.5))\n",
        "split = []\n",
        "f=-1\n",
        "fig, ax = plt.subplots()\n",
        "for i in range(0,len(p)-2):\n",
        "  f=f+1\n",
        "  \n",
        "  a=p[f]\n",
        "  b=p[f+1]\n",
        "  c=p[f+2]\n",
        "  w=tipo_ver(a,b,c)\n",
        "  if w==1:\n",
        "    split.append(b)\n",
        "    ax.plot(b[0], b[1], 'ro')\n",
        "    \n",
        "  else:\n",
        "    ax.plot(b[0], b[1], 'bo')\n",
        "    \n",
        "  \n",
        "t=tipo_ver((10,-1),(9,0.5),(7,-3)) #Se hace manual el primero porque no se hace en el for\n",
        "if t==1:\n",
        "    split.append((9,0.5))\n",
        "    ax.plot(9, 0.5, 'ro')\n",
        "    \n",
        "else:\n",
        "  ax.plot(9, 0.5, 'bo')\n",
        "  \n",
        "print(split)\n",
        "\n",
        "\n",
        "\n",
        "\n",
        "\n",
        "\n"
      ]
    }
  ]
}