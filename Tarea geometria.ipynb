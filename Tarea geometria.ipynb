{
  "nbformat": 4,
  "nbformat_minor": 0,
  "metadata": {
    "colab": {
      "provenance": []
    },
    "kernelspec": {
      "name": "python3",
      "display_name": "Python 3"
    },
    "language_info": {
      "name": "python"
    }
  },
  "cells": [
    {
      "cell_type": "markdown",
      "source": [],
      "metadata": {
        "id": "ZcpnUm47U2K_"
      }
    },
    {
      "cell_type": "markdown",
      "source": [
        "Primer Punto"
      ],
      "metadata": {
        "id": "Gsfj4caNU01o"
      }
    },
    {
      "cell_type": "code",
      "source": [
        "s1=(1,2,3,4)\n",
        "s2=(3,4,5,6)\n",
        "s3=(2,3,5,6)\n",
        "s4=(4,5,5,6)\n",
        "sa=(1,3,3,1)\n",
        "sb =(1,7,1,8)\n",
        "\n",
        "\n",
        "def convexa(s, s1):\n",
        "   \n",
        "    x1, y1 = min(s[0], s[2]), min(s[1], s[3])\n",
        "    x2, y2 = max(s[0], s[2]), max(s[1], s[3])\n",
        "    x3, y3 = min(s1[0], s1[2]), min(s1[1], s1[3])\n",
        "    x4, y4 = max(s1[0], s1[2]), max(s1[1], s1[3])\n",
        "    if x1>x4 or x3>x2 or y1>y4 or y3>y2:\n",
        "            \n",
        "        print(\"Los segmentos no se intersectan\")\n",
        "        return None\n",
        "    \n",
        "    a= s1[0]-s1[2]\n",
        "    b= s[2]-s[0]\n",
        "    c= s1[1]-s1[3]\n",
        "    d= s[3]-s[1]\n",
        "    pl= (a*d)-(b*c) \n",
        "    \n",
        "    if pl == 0:\n",
        "        #Tienen pendientes iguales \n",
        "        if (max(s[0], s1[0])== min(s[2], s1[2])) and (max(s[1], s1[1]) == min(s[3], s1[3]) ):\n",
        "            print(\"se intersectan en un punto extremo \")\n",
        "        else:\n",
        "            print(\"Se intersectan en un intervalo\")\n",
        "        return (max(s[0], s1[0]), max(s[1], s1[1])), (min(s[2], s1[2]), min(s[3], s1[3]))\n",
        "    \n",
        "    \n",
        "    \n",
        "    \n",
        "    det1 = (s[0]*s[3]) - (s[1] * s[2] )\n",
        "    det2 = (s1[0]*s1[3]) - (s1[1] * s1[2] )\n",
        "    w = (s[0]*s[3]) - (s1[1] * s1[2] ) - (s[1]- s[3]) * (s1[0] - s1[2])\n",
        "    print(\"Los segmentos se intersectan en el punto :\")\n",
        "    x = (det1 * (s1[0] - s1[2]) - (s[0] - s[2]) * det2) / w\n",
        "    y = (det1 * (s1[1] - s1[3]) - (s[1] - s[3]) * det2)  / w\n",
        "    return x,y\n",
        "   \n",
        "    \n",
        "    \n",
        "\n",
        "print(convexa(s1,s2))\n",
        "print(convexa(s1,s3))\n",
        "print(convexa(s1,s4))"
      ],
      "metadata": {
        "colab": {
          "base_uri": "https://localhost:8080/"
        },
        "id": "uTgkjCpT707r",
        "outputId": "4d7f3933-33c3-4043-dd4a-aa98f1f07391"
      },
      "execution_count": 2,
      "outputs": [
        {
          "output_type": "stream",
          "name": "stdout",
          "text": [
            "se intersectan en un punto extremo \n",
            "((3, 4), (3, 4))\n",
            "Se intersectan en un intervalo\n",
            "((2, 3), (3, 4))\n",
            "Los segmentos no se intersectan\n",
            "None\n"
          ]
        }
      ]
    },
    {
      "cell_type": "markdown",
      "source": [],
      "metadata": {
        "id": "WiH0uN46AAZJ"
      }
    },
    {
      "cell_type": "markdown",
      "source": [
        "Primero se evalua si los segmentos no se intersectan, de ser asi el algoritmo se para, de lo contrario se procede a evaluar si tienen pendientes iguales, de ser asi se tiene que se intersectan en un punto o un intervalo porque no se activo el condicional anterior, por lo que se retorna el punto extremo o el intervalo segun el caso, finalmente si la pendiente no es igual los segmentos se intersectan en un punto, y se utilizan los determinantes de las coordenadas de los dos puntos para hallarlo, se crearon dos puntos mas para probar situaciones que no se dan con los 4 puntos originales "
      ],
      "metadata": {
        "id": "MhTDUM2Y99B2"
      }
    },
    {
      "cell_type": "markdown",
      "source": [
        "Segundo Punto "
      ],
      "metadata": {
        "id": "An6o8hjMAEIU"
      }
    },
    {
      "cell_type": "markdown",
      "source": [
        "Para la implementacion de este algoritmo me base en una implementacion recursiva del algoritmo de dividir y conquistar , primero se crean funciones basicas \"crear_lista\" que prepara los puntos para el algoritmo y \"det\" que define una ecuacion que sera usada varias veces en el algoritmo, posteriormente se implementa la funcion hull que basicamente envia a la izquierda o derecha los puntos en la lista actualizando el set original, luego se implementa la funcion recursiva que ignora los puntos que no son extremos, ya que no hacen parte del conjunto final y utiliza la funcion anterior para dividir dichos puntos en la parte superior e inferior del hull, finalmente se ingresan los puntos al algoritmo y se llama la funcion \"convexa_recursiva\" , y el algoritmo saca una lista de puntos del convex hull.    "
      ],
      "metadata": {
        "id": "doa2JIF5I98p"
      }
    },
    {
      "cell_type": "markdown",
      "source": [
        "Asi se toman estos puntos y se grafican de color azul mientras que los otros son de color rojo, por lo que el algoritmo fue implementado correctamente "
      ],
      "metadata": {
        "id": "I9pNNVDDQFFr"
      }
    },
    {
      "cell_type": "code",
      "source": [
        "import matplotlib.pyplot as plt\n",
        "\n",
        "class Point:\n",
        "    \n",
        "    def __init__(self, x, y):\n",
        "        self.x = float(x)\n",
        "        self.y = float(y)\n",
        " \n",
        "    def __hash__(self):\n",
        "        return hash(self.x)\n",
        " \n",
        "    def __ne__(self, other):\n",
        "        return not self == other\n",
        "    \n",
        "    def __eq__(self, other):\n",
        "        return self.x == other.x and self.y == other.y\n",
        " \n",
        "    def __gt__(self, other):\n",
        "        if self.x > other.x:\n",
        "            return True\n",
        "        elif self.x == other.x:\n",
        "            return self.y > other.y\n",
        "        return False\n",
        " \n",
        "    def __repr__(self):\n",
        "        return  f\"({self.x}, {self.y})\"\n",
        "    \n",
        "    def __ge__(self, other):\n",
        "        if self.x > other.x:\n",
        "            return True\n",
        "        elif self.x == other.x:\n",
        "            return self.y >= other.y\n",
        "        return False\n",
        " \n",
        "    def __le__(self, other):\n",
        "        if self.x == other.x:\n",
        "            return self.y <= other.y\n",
        "        elif self.x < other.x:\n",
        "            return True\n",
        "        else:\n",
        "            return False\n",
        "    \n",
        "def crear_lista(lista):\n",
        "    puntos = []\n",
        "    for p in lista:\n",
        "        puntos.append(Point(p[0], p[1]))\n",
        "    return puntos\n",
        " \n",
        "def det(a, b, c):\n",
        "    det = (a.x * b.y + b.x * c.y + c.x * a.y) - (a.y * b.x + b.y * c.x + c.y * a.x)\n",
        "    return det\n",
        " \n",
        "def hull(points, left, right, convex_set):\n",
        "    \n",
        "    if points:\n",
        "        ex_p = None\n",
        "        extreme_point_distance = float(\"-inf\")\n",
        "        puntos = []\n",
        " \n",
        "        for p in points:\n",
        "            d = det(left, right, p)\n",
        " \n",
        "            if d > 0:\n",
        "                puntos.append(p)\n",
        " \n",
        "                if d > extreme_point_distance:\n",
        "                    extreme_point_distance = d\n",
        "                    ex_p = p\n",
        " \n",
        "        if ex_p:\n",
        "            hull(puntos, left, ex_p, convex_set)\n",
        "            convex_set.add(ex_p)\n",
        "            hull(puntos, ex_p, right, convex_set)\n",
        "\n",
        "def convexa_recursiva(points):\n",
        "    p = sorted(crear_lista(points))\n",
        "    n = len(p)\n",
        "    p_iz = p[0]\n",
        "    p_der = p[n - 1]\n",
        "    tup = {p_iz, p_der}\n",
        "    u_hull = []\n",
        "    l_hull = []\n",
        " \n",
        "    for i in range(1, n - 1):\n",
        "        d = det(p_iz, p_der, p[i])\n",
        " \n",
        "        if d > 0:\n",
        "            u_hull.append(p[i])\n",
        "        elif d < 0:\n",
        "            l_hull.append(p[i])\n",
        " \n",
        "    hull(u_hull, p_iz, p_der, tup)\n",
        "    hull(l_hull, p_der, p_iz, tup)\n",
        " \n",
        "    return sorted(tup)\n",
        " \n",
        " \n",
        "def main():\n",
        "    points = [(4.4761, 1.994), (4.9466, 1.2667), (0.1991, 3.0293), \n",
        "              (1.2734, 4.9885), (1.9589, 3.6342), (3.7172, 3.6357), (4.0876, 0.2972), \n",
        "              (4.304, 2.2281), (3.2383, 3.0908), (3.1682, 3.7495), (0.7345, 4.7487), \n",
        "              (3.968, 3.5959), (1.2508, 0.1982), (0.1991, 2.256), (0.1991, 1.562), \n",
        "              (2.134, 1.562), (3.334, 1.562)]\n",
        "   \n",
        "    results_recursive = convexa_recursiva(points)\n",
        "    print(results_recursive)\n",
        " \n",
        "if __name__ == \"__main__\":\n",
        "    main()\n",
        "    \n",
        "fig, ax = plt.subplots()\n",
        "\n",
        "ax.plot(4.4761, 1.994, 'ro'), ax.plot(4.9466, 1.2667, 'bo'), ax.plot(0.1991, 3.0293, 'bo') \n",
        "ax.plot(1.2734, 4.9885, 'bo'), ax.plot(1.9589, 3.6342, 'ro'), ax.plot(3.7172, 3.6357, 'ro'), ax.plot(4.0876, 0.2972, 'bo')\n",
        "ax.plot(4.304, 2.2281, 'ro'), ax.plot(3.2383, 3.0908, 'ro'), ax.plot(3.1682, 3.7495, 'ro'), ax.plot(0.7345, 4.7487, 'bo')\n",
        "ax.plot(3.968, 3.5959, 'bo'), ax.plot(1.2508, 0.1982, 'bo'), ax.plot(0.1991, 2.256, 'ro'), ax.plot(0.1991, 1.562, 'bo') \n",
        "ax.plot(2.134, 1.562, 'ro'), ax.plot(3.334, 1.562, 'ro')\n",
        "\n",
        "\n",
        "\n",
        "\n"
      ],
      "metadata": {
        "colab": {
          "base_uri": "https://localhost:8080/",
          "height": 339
        },
        "id": "04dm19TMAWZp",
        "outputId": "c566056b-64ff-4d1f-9a5b-54aa287b7ea4"
      },
      "execution_count": 4,
      "outputs": [
        {
          "output_type": "stream",
          "name": "stdout",
          "text": [
            "[(0.1991, 1.562), (0.1991, 3.0293), (0.7345, 4.7487), (1.2508, 0.1982), (1.2734, 4.9885), (3.968, 3.5959), (4.0876, 0.2972), (4.9466, 1.2667)]\n"
          ]
        },
        {
          "output_type": "execute_result",
          "data": {
            "text/plain": [
              "([<matplotlib.lines.Line2D at 0x7f72a56d38b0>],\n",
              " [<matplotlib.lines.Line2D at 0x7f72a56d3b80>])"
            ]
          },
          "metadata": {},
          "execution_count": 4
        },
        {
          "output_type": "display_data",
          "data": {
            "text/plain": [
              "<Figure size 432x288 with 1 Axes>"
            ],
            "image/png": "[encoded data removed]"
          },
          "metadata": {
            "needs_background": "light"
          }
        }
      ]
    },
    {
      "cell_type": "markdown",
      "source": [
        "Ahora en cuanto a los modelos que se puden implementar utilizando este algoritmo, considero que seria principalmente el habitad natural de una especie de animales, sistema en el cual los animales serian los puntos y el hull seria el habitad, analogamente el sistema podria implementarse con especies de flores, plantas, arboles y demas."
      ],
      "metadata": {
        "id": "spVwx3GSQcYJ"
      }
    },
    {
      "cell_type": "markdown",
      "source": [
        "Punto 3 "
      ],
      "metadata": {
        "id": "DX1uKL_4Usy2"
      }
    },
    {
      "cell_type": "code",
      "source": [
        "import random\n",
        "import heapq\n",
        "\n",
        "def intersec(seg1, seg2):\n",
        "    x1, y1 = seg1[0]\n",
        "    x2, y2 = seg1[1]\n",
        "    x3, y3 = seg2[0]  # Se cogen las componentes x y y de cada uno de los segmentos \n",
        "    x4, y4 = seg2[1]\n",
        "    dx1,dy1 = x2-x1, y2-y1\n",
        "    dx2,dy2 = x4-x3, y4-y3\n",
        "    det = (dx1*dy2)-(dx2*dy1)\n",
        "    if det == 0:\n",
        "        return False  \n",
        "    if max(x1, x2) < min(x3, x4) or max(x3, x4) < min(x1, x2) or max(y1, y2) < min(y3, y4) or max(y3, y4) < min(y1, y2):\n",
        "        return False  # Se evaluan estas dos condiciones y en caso de que se cumplen retorna falso porque no se intersectan\n",
        "    f1 = ((dx2*(y1-y3)-dy2*(x1-x3))/ det)\n",
        "    f2 = ((dx1*(y1-y3)-dy1*(x1-x3))/ det)\n",
        "    g1 = 0<=f1<=1\n",
        "    g2 = 0<=f2<=1\n",
        "    return g1 and g2  #Los segmentos se intersectan, se retorna de esta manera para evitar duplicados \n",
        "    \n",
        "def linea_barrido(segmentos):\n",
        "    eventos = []  #se crea un array para los eventos\n",
        "    p= enumerate(segmentos)\n",
        "    for i, segment in p:\n",
        "        (x1,y1),(x2,y2) = segment #Las componentes x y y de ambos puntos se extraen del segmento \n",
        "        if x1>x2:\n",
        "            segment = (segment[1],segment[0]) #Se ordenan los segmentos de tal manera que el primer punto del segmento este mas a la derecha \n",
        "            x1, y1, x2, y2 = x2, y2, x1, y1\n",
        "        heapq.heappush(eventos, (x1, i, \"left\"))   #Se pone el elemento en la cola de eventos \n",
        "        heapq.heappush(eventos, (x2, i, \"right\")) #gracias a la funcion heappush se mantiene la invariante \n",
        "   \n",
        "    intersecciones = []\n",
        "    seg_intersec = []    # Segmentos de interseccion \n",
        "    seg_acts = set()  # Segmentos activos \n",
        "    while eventos: #Mientras haya eventos en el array de eventos se itera \n",
        "        x, i, tipo = heapq.heappop(eventos) #heap.pop retorna y elimina el elemento mas pequeno de eventos y los valores se guardan en x, i, tipo respectivamente\n",
        "        segment = segmentos[i] #Se coge el segmento asociado al evento \n",
        "        if tipo == \"left\":\n",
        "            for seg_act in seg_acts: #Se itera con respecto a la lista de segmentos activos \n",
        "                if intersec(seg_act, segment):\n",
        "                    xa = (x - seg_act[0][0]) / (seg_act[1][0] - seg_act[0][0]) * (seg_act[1][1] - seg_act[0][1]) + seg_act[0][1]\n",
        "                    #Se usa x y xa para saber el punto de interseccion con base al segmento activo  \n",
        "                    intersecciones.append((x, xa )) #Se agrega el punto de interseccion \n",
        "                    seg_intersec.append((seg_act, segment)) #Se agrega a la lista de segmentos activos \n",
        "            seg_acts.add(segment) #Como es \"left \" se agrega el segmento a la lista de segmentos activos \n",
        "        else:\n",
        "            seg_acts.remove(segment) #Como es \"right\" se elimina el segmento a l inicio al lugar de agregarlo al final  \n",
        "            for seg_act in seg_acts: #Por lo demas es igual al caso \"left \"\n",
        "                if intersec(seg_act, segment):\n",
        "                    xa = (x - seg_act[0][0]) / (seg_act[1][0] - seg_act[0][0]) * (seg_act[1][1] - seg_act[0][1]) + seg_act[0][1]\n",
        "                    intersecciones.append((x, xa))\n",
        "                    seg_intersec.append((seg_act, segment))\n",
        "    return intersecciones, seg_intersec \n",
        "\n",
        "\n",
        "segments = [((round(random.uniform(0, 20),4), round(random.uniform(0, 20),4)),\n",
        "             (round(random.uniform(0, 20),4), round(random.uniform(0, 20),4))) \n",
        "            for _ in range(20)] #Se crean 20 segmentos aleatorios entre 0 y 20 con 4 decimales\n",
        "print(\"Los segmentos son:\")\n",
        "for i in range(20):\n",
        "    print(segments[i])  #Se imprimen los segmentos creados \n",
        "\n",
        "\n",
        "intersecciones, seg_intersec = linea_barrido(segments) #Se llama la funcion \n",
        "\n",
        "print(f\"Se encontraron {len(intersecciones)} puntos y segmentos de interseccion:\")\n",
        "print(\"Puntos de interseccion\")\n",
        "for intersection in intersecciones: #Se imprimen los puntos de interseccion \n",
        "    print(intersection)\n",
        "\n",
        "print(\"Segmentos de interseccion\")\n",
        "for segment1, segment2 in seg_intersec:\n",
        "    print(segment1, \"and\", segment2) #Se imprimen los segmentos que se intersectan \n"
      ],
      "metadata": {
        "id": "dHVdDoFZGe6s"
      },
      "execution_count": null,
      "outputs": []
    },
    {
      "cell_type": "markdown",
      "source": [
        "Bibliografia:\n",
        "https://docs.python.org/3/library/heapq.html\n",
        "https://python.algorithmexamples.com/web/divide_and_conquer/convex_hull.html\n",
        "\n",
        "Mark de Berg, Otfried Cheong, Marc van Kreveld, Mark Overmars. Computational\n",
        "Geometry – Algorithms and Applications. Tercera edición. Springer (2008).\n"
      ],
      "metadata": {
        "id": "090Rd4TMHSqd"
      }
    }
  ]
}